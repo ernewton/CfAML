{
 "metadata": {
  "language": "Julia",
  "name": "",
  "signature": "sha256:c04d317c4844c039c66cfe58fd90079cafdec2ce36550546a259bbb81056c826"
 },
 "nbformat": 3,
 "nbformat_minor": 0,
 "worksheets": [
  {
   "cells": [
    {
     "cell_type": "markdown",
     "metadata": {},
     "source": [
      "# Introduction to Machine Learning Group\n",
      "\n",
      "Goal is to use the Table of Contents of Bishop as a roadmap for this reading group.\n",
      "\n",
      "Available as git repository : `iancze/CfAML`\n",
      "\n",
      "There are many other resources available! See list [here](https://github.com/iancze/CfAML/blob/master/README.md). \n",
      "\n",
      "## Chapter 1: Introduction\n",
      "\n",
      "* Polynomial curve fitting [Ian]\n",
      "* Probability theory [Ian]\n",
      "* Model selection [Ian]\n",
      "* Curse of Dimensionality [Ian]\n",
      "* Decision Theory [Sam]\n",
      "* Information Theory [Sam]\n",
      "\n",
      "## Chapter 2: Probability Distributions\n",
      "\n",
      "Plot these up and see what they look like with IJulia + interact!\n",
      "\n",
      "* Binary, multinomial variables [Ian] (coin flip example in Julia)\n",
      "* Gaussian distribution\n",
      "* Mixtures of Gaussians [Sam]\n",
      "* Conjugate Priors [Sam]\n"
     ]
    },
    {
     "cell_type": "code",
     "collapsed": false,
     "input": [],
     "language": "python",
     "metadata": {},
     "outputs": []
    }
   ],
   "metadata": {}
  }
 ]
}