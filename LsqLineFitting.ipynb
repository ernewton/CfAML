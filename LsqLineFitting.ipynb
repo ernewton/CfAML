{
 "metadata": {
  "name": "",
  "signature": "sha256:5e8e81afdb3b5726a394ca12a14a043a50261fc94077fa4299fa3fb0b5ab5413"
 },
 "nbformat": 3,
 "nbformat_minor": 0,
 "worksheets": [
  {
   "cells": [
    {
     "cell_type": "code",
     "collapsed": false,
     "input": [
      "# finding the least square solution in a variety of ways\n",
      "# Hogg, Bocy & Lang Sec. 1\n",
      "\n",
      "%matplotlib inline ## needed for inline plots\n",
      "import numpy as np\n",
      "import matplotlib.pyplot as plt"
     ],
     "language": "python",
     "metadata": {},
     "outputs": [],
     "prompt_number": 74
    },
    {
     "cell_type": "code",
     "collapsed": false,
     "input": [
      "x,y,sy,sx,sxy = np.loadtxt('data.txt',unpack=True) # read the data\n",
      "\n",
      "# numpy out-of-the-box\n",
      "b,a = np.polyfit(x,y,1,w=1./sy**2) # with a degree of 1\n",
      "print a, b ## result is close, but not the same\n",
      "\n",
      "yfit = a + b*x\n",
      "plt.scatter(x,y)\n",
      "plt.plot(x,yfit)"
     ],
     "language": "python",
     "metadata": {},
     "outputs": [
      {
       "output_type": "stream",
       "stream": "stdout",
       "text": [
        "182.701377596 1.21451526933\n"
       ]
      },
      {
       "metadata": {},
       "output_type": "pyout",
       "prompt_number": 75,
       "text": [
        "[<matplotlib.lines.Line2D at 0x1087dd750>]"
       ]
      },
      {
       "metadata": {},
       "output_type": "display_data",
       "png": "[encoded data removed]",
       "text": [
        "<matplotlib.figure.Figure at 0x1087dd2d0>"
       ]
      }
     ],
     "prompt_number": 75
    },
    {
     "cell_type": "code",
     "collapsed": false,
     "input": [
      "# this solves the linear algebra equation (Eq 5) from Hogg et al. \n",
      "a = np.vstack((np.zeros(x.size)+1,x)) ## a 2d array from two 1d arrays\n",
      "a = a.T ## take the transpose\n",
      "y = np.array(y).T ## not necessary\n",
      "c = np.zeros([x.size,x.size])\n",
      "for i in np.arange(x.size): ## variances along the diagonal\n",
      "    c[i][i]=sy[i]**2\n",
      "    \n",
      "# matrix algebra\n",
      "m1 = np.dot(np.dot(a.T,np.linalg.inv(c)),a)\n",
      "m2 = np.dot(np.dot(a.T,np.linalg.inv(c)),y)\n",
      "sol = np.dot(np.linalg.inv(m1),m2)\n",
      "print sol\n",
      "# agrees!!\n",
      "\n",
      "# this does the same thing as above, but with no errors\n",
      "# it agrees with my calculation if I put 1 for all errors\n",
      "b, a = np.linalg.lstsq(a,y)[0]\n",
      "print b, a"
     ],
     "language": "python",
     "metadata": {},
     "outputs": [
      {
       "output_type": "stream",
       "stream": "stdout",
       "text": [
        "[ 213.27349198    1.07674752]\n",
        "310.017202554 0.632011535928\n"
       ]
      }
     ],
     "prompt_number": 83
    },
    {
     "cell_type": "code",
     "collapsed": false,
     "input": [
      "# this solves the linear algebra equation (Eq 5) from Hogg et al. \n",
      "# ... but for a quadratic\n",
      "a = (np.vstack((np.zeros(x.size)+1,x,x**2))).T ## the only difference\n",
      "y = np.array(y).T\n",
      "c = np.zeros([x.size,x.size])\n",
      "for i in np.arange(x.size):\n",
      "    c[i][i]=sy[i]**2\n",
      "m1 = np.dot(np.dot(a.T,np.linalg.inv(c)),a)\n",
      "m2 = np.dot(np.dot(a.T,np.linalg.inv(c)),y)\n",
      "sol = np.dot(np.linalg.inv(m1),m2)\n",
      "print sol"
     ],
     "language": "python",
     "metadata": {},
     "outputs": [
      {
       "output_type": "stream",
       "stream": "stdout",
       "text": [
        "[  1.88458350e+01   3.71596602e+00  -7.80681914e-03]\n"
       ]
      }
     ],
     "prompt_number": 85
    },
    {
     "cell_type": "code",
     "collapsed": false,
     "input": [],
     "language": "python",
     "metadata": {},
     "outputs": []
    }
   ],
   "metadata": {}
  }
 ]
}